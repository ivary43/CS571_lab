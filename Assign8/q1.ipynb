{
 "cells": [
  {
   "cell_type": "code",
   "execution_count": 22,
   "metadata": {},
   "outputs": [],
   "source": [
    "import numpy as np\n",
    "import matplotlib.pyplot as plt\n",
    "import pandas as pd\n",
    "import string\n",
    "from sklearn.model_selection import KFold\n",
    "from sklearn.metrics import classification_report\n",
    "from sklearn.metrics import f1_score, precision_score, recall_score\n",
    "from statistics import mean\n",
    "from collections import Counter\n",
    "from nltk import ngrams \n",
    "from nltk.corpus import stopwords \n",
    "from nltk.tokenize import word_tokenize, sent_tokenize"
   ]
  },
  {
   "cell_type": "code",
   "execution_count": 33,
   "metadata": {},
   "outputs": [
    {
     "name": "stderr",
     "output_type": "stream",
     "text": [
      "[nltk_data] Downloading package stopwords to /home/mayank/nltk_data...\n",
      "[nltk_data]   Package stopwords is already up-to-date!\n",
      "[nltk_data] Downloading package punkt to /home/mayank/nltk_data...\n",
      "[nltk_data]   Package punkt is already up-to-date!\n",
      "[nltk_data] Downloading package averaged_perceptron_tagger to\n",
      "[nltk_data]     /home/mayank/nltk_data...\n",
      "[nltk_data]   Unzipping taggers/averaged_perceptron_tagger.zip.\n"
     ]
    },
    {
     "data": {
      "text/plain": [
       "True"
      ]
     },
     "execution_count": 33,
     "metadata": {},
     "output_type": "execute_result"
    }
   ],
   "source": [
    "import nltk\n",
    "nltk.download('stopwords')\n",
    "nltk.download('punkt')\n",
    "nltk.download('averaged_perceptron_tagger')"
   ]
  },
  {
   "cell_type": "code",
   "execution_count": 38,
   "metadata": {},
   "outputs": [],
   "source": [
    "def get_ngrams(data, n, common_n):\n",
    "    tokens = [token for token in data.split(\" \") if token != \"\"]\n",
    "    output = list(ngrams(tokens, n))\n",
    "    \n",
    "    ngram_counts = Counter(output)\n",
    "    ng_counts = ngram_counts.most_common(common_n)\n",
    "    \n",
    "    return ng_counts"
   ]
  },
  {
   "cell_type": "code",
   "execution_count": 50,
   "metadata": {},
   "outputs": [],
   "source": [
    "stop_words = set(stopwords.words('english')) \n",
    "\n",
    "def get_postag(txt):\n",
    "    tokenized = sent_tokenize(txt)\n",
    "  \n",
    "    wordsList = nltk.word_tokenize(tokenized[0]) \n",
    "    wordsList = [w for w in wordsList if not w in stop_words]  \n",
    "    tagged = nltk.pos_tag(wordsList) \n",
    "\n",
    "    return tagged"
   ]
  },
  {
   "cell_type": "code",
   "execution_count": 51,
   "metadata": {},
   "outputs": [
    {
     "data": {
      "text/plain": [
       "5452"
      ]
     },
     "execution_count": 51,
     "metadata": {},
     "output_type": "execute_result"
    }
   ],
   "source": [
    "data = []\n",
    "file = open('./traindata.txt')\n",
    "\n",
    "for line in file:\n",
    "    line = line.split(':')\n",
    "    row = []\n",
    "    row.append(line[0])\n",
    "    row.append(' '.join(line[1].split(' ')[1:]).translate(str.maketrans('', '', string.punctuation)).rstrip())\n",
    "    \n",
    "    length = len(row[1].split(' '))\n",
    "    unigram = get_ngrams(row[1], 1, 500)\n",
    "    bigram = get_ngrams(row[1], 2, 300)\n",
    "    trigram = get_ngrams(row[1], 3, 200)\n",
    "    postag = get_postag(row[1])\n",
    "    \n",
    "    row.append(length)\n",
    "    row.append(unigram)\n",
    "    row.append(bigram)\n",
    "    row.append(trigram)\n",
    "    row.append(postag)\n",
    "    \n",
    "    data.append(row)\n",
    "    \n",
    "len(data)"
   ]
  },
  {
   "cell_type": "code",
   "execution_count": 52,
   "metadata": {},
   "outputs": [
    {
     "name": "stdout",
     "output_type": "stream",
     "text": [
      "Counter({('I', 'am'): 2, ('Yo', 'wassup'): 1, ('wassup', 'I'): 1, ('a', 'car.'): 1, ('nibba,', 'I'): 1, ('am', 'nibba,'): 1, ('am', 'a'): 1})\n"
     ]
    }
   ],
   "source": [
    "d = 'Yo wassup I am nibba, I am a car.'\n",
    "tokens = [token for token in d.split(\" \") if token != \"\"]\n",
    "output = list(ngrams(tokens, 2))\n",
    "ngram_counts = Counter(output)\n",
    "ngram_counts.most_common(500)\n",
    "print(ngram_counts)"
   ]
  },
  {
   "cell_type": "code",
   "execution_count": 53,
   "metadata": {},
   "outputs": [
    {
     "data": {
      "text/plain": [
       "['DESC',\n",
       " 'How did serfdom develop in and then leave Russia',\n",
       " 9,\n",
       " [(('in',), 1),\n",
       "  (('How',), 1),\n",
       "  (('Russia',), 1),\n",
       "  (('and',), 1),\n",
       "  (('develop',), 1),\n",
       "  (('serfdom',), 1),\n",
       "  (('leave',), 1),\n",
       "  (('did',), 1),\n",
       "  (('then',), 1)],\n",
       " [(('then', 'leave'), 1),\n",
       "  (('leave', 'Russia'), 1),\n",
       "  (('serfdom', 'develop'), 1),\n",
       "  (('and', 'then'), 1),\n",
       "  (('How', 'did'), 1),\n",
       "  (('in', 'and'), 1),\n",
       "  (('did', 'serfdom'), 1),\n",
       "  (('develop', 'in'), 1)],\n",
       " [(('and', 'then', 'leave'), 1),\n",
       "  (('did', 'serfdom', 'develop'), 1),\n",
       "  (('then', 'leave', 'Russia'), 1),\n",
       "  (('in', 'and', 'then'), 1),\n",
       "  (('How', 'did', 'serfdom'), 1),\n",
       "  (('serfdom', 'develop', 'in'), 1),\n",
       "  (('develop', 'in', 'and'), 1)],\n",
       " [('How', 'WRB'),\n",
       "  ('serfdom', 'JJ'),\n",
       "  ('develop', 'VB'),\n",
       "  ('leave', 'JJ'),\n",
       "  ('Russia', 'NNP')]]"
      ]
     },
     "execution_count": 53,
     "metadata": {},
     "output_type": "execute_result"
    }
   ],
   "source": [
    "data[0]"
   ]
  },
  {
   "cell_type": "code",
   "execution_count": null,
   "metadata": {},
   "outputs": [],
   "source": []
  }
 ],
 "metadata": {
  "kernelspec": {
   "display_name": "Python 3",
   "language": "python",
   "name": "python3"
  },
  "language_info": {
   "codemirror_mode": {
    "name": "ipython",
    "version": 3
   },
   "file_extension": ".py",
   "mimetype": "text/x-python",
   "name": "python",
   "nbconvert_exporter": "python",
   "pygments_lexer": "ipython3",
   "version": "3.5.6"
  }
 },
 "nbformat": 4,
 "nbformat_minor": 2
}
