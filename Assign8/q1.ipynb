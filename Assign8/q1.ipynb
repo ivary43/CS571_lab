{
 "cells": [
  {
   "cell_type": "code",
   "execution_count": 1,
   "metadata": {},
   "outputs": [],
   "source": [
    "import numpy as np\n",
    "import matplotlib.pyplot as plt\n",
    "import pandas as pd\n",
    "import string\n",
    "from sklearn.model_selection import KFold\n",
    "from sklearn.metrics import classification_report\n",
    "from sklearn.metrics import f1_score, precision_score, recall_score, accuracy_score, confusion_matrix\n",
    "from statistics import mean\n",
    "from collections import Counter\n",
    "from nltk import ngrams \n",
    "from nltk.corpus import stopwords \n",
    "from nltk.tokenize import word_tokenize, sent_tokenize\n",
    "from copy import deepcopy\n",
    "import operator"
   ]
  },
  {
   "cell_type": "code",
   "execution_count": 2,
   "metadata": {},
   "outputs": [
    {
     "name": "stderr",
     "output_type": "stream",
     "text": [
      "[nltk_data] Downloading package stopwords to /home/mayank/nltk_data...\n",
      "[nltk_data]   Package stopwords is already up-to-date!\n",
      "[nltk_data] Downloading package punkt to /home/mayank/nltk_data...\n",
      "[nltk_data]   Package punkt is already up-to-date!\n",
      "[nltk_data] Downloading package averaged_perceptron_tagger to\n",
      "[nltk_data]     /home/mayank/nltk_data...\n",
      "[nltk_data]   Package averaged_perceptron_tagger is already up-to-\n",
      "[nltk_data]       date!\n"
     ]
    },
    {
     "data": {
      "text/plain": [
       "True"
      ]
     },
     "execution_count": 2,
     "metadata": {},
     "output_type": "execute_result"
    }
   ],
   "source": [
    "import nltk\n",
    "nltk.download('stopwords')\n",
    "nltk.download('punkt')\n",
    "nltk.download('averaged_perceptron_tagger')"
   ]
  },
  {
   "cell_type": "code",
   "execution_count": 3,
   "metadata": {},
   "outputs": [],
   "source": [
    "def get_ngrams(data, n):\n",
    "    tokens = [token for token in data.split(\" \") if token != \"\"]\n",
    "    output = list(ngrams(tokens, n))    \n",
    "    return output"
   ]
  },
  {
   "cell_type": "code",
   "execution_count": 4,
   "metadata": {},
   "outputs": [],
   "source": [
    "stop_words = set(stopwords.words('english')) \n",
    "\n",
    "def get_postag(txt):\n",
    "    tokenized = sent_tokenize(txt)\n",
    "  \n",
    "    wordsList = nltk.word_tokenize(tokenized[0]) \n",
    "    wordsList = [w for w in wordsList if not w in stop_words]  \n",
    "    tagged = nltk.pos_tag(wordsList) \n",
    "\n",
    "    return tagged"
   ]
  },
  {
   "cell_type": "code",
   "execution_count": 5,
   "metadata": {},
   "outputs": [],
   "source": [
    "def buildData(filePath):\n",
    "    data = []\n",
    "    uni = []\n",
    "    bi = []\n",
    "    tri = []\n",
    "    pos = []\n",
    "    file = open(filePath)\n",
    "\n",
    "    for line in file:\n",
    "        line = line.split(':')\n",
    "        row = []\n",
    "        row.append(line[0])\n",
    "        row.append(' '.join(line[1].split(' ')[1:]).translate(str.maketrans('', '', string.punctuation)).rstrip())\n",
    "\n",
    "        length = len(row[1].split(' '))\n",
    "        unigram = get_ngrams(row[1], 1)\n",
    "        bigram = get_ngrams(row[1], 2)\n",
    "        trigram = get_ngrams(row[1], 3)\n",
    "        postag = get_postag(row[1])\n",
    "\n",
    "        row.append(length)\n",
    "\n",
    "        row.append(unigram)\n",
    "        uni.extend(unigram)\n",
    "\n",
    "        row.append(bigram)\n",
    "        bi.extend(bigram)\n",
    "\n",
    "        row.append(trigram)\n",
    "        tri.extend(trigram)\n",
    "\n",
    "        row.append(postag)\n",
    "        pos.extend(postag)\n",
    "\n",
    "        data.append(row)\n",
    "\n",
    "    return data, uni, bi, tri, pos"
   ]
  },
  {
   "cell_type": "code",
   "execution_count": 6,
   "metadata": {
    "scrolled": true
   },
   "outputs": [],
   "source": [
    "data, uni, bi, tri, pos = buildData('./traindata.txt')"
   ]
  },
  {
   "cell_type": "code",
   "execution_count": 7,
   "metadata": {},
   "outputs": [],
   "source": [
    "def top_grams(grams, top_n):\n",
    "    return Counter(grams).most_common(top_n)"
   ]
  },
  {
   "cell_type": "code",
   "execution_count": 8,
   "metadata": {},
   "outputs": [
    {
     "name": "stdout",
     "output_type": "stream",
     "text": [
      "9.031548055759353\n"
     ]
    }
   ],
   "source": [
    "unigram_counts = top_grams(uni, 500)\n",
    "bigram_counts = top_grams(bi, 300)\n",
    "trigram_counts = top_grams(tri, 200)\n",
    "pos_counts = top_grams(pos, 500)\n",
    "lengthAvg = mean([row[2] for row in data])\n",
    "print(lengthAvg)"
   ]
  },
  {
   "cell_type": "code",
   "execution_count": 9,
   "metadata": {},
   "outputs": [],
   "source": [
    "def is_numeric(value):\n",
    "    return isinstance(value, int) or isinstance(value, float)"
   ]
  },
  {
   "cell_type": "code",
   "execution_count": 10,
   "metadata": {},
   "outputs": [],
   "source": [
    "header = ['Label', 'Text', 'Length', 'Unigram', 'Bigram', 'Trigram']\n",
    "class Question:\n",
    "    def __init__(self, column, value):\n",
    "        self.column = column\n",
    "        self.value = value\n",
    "\n",
    "    def match(self, example):\n",
    "        val = example[self.column]\n",
    "        \n",
    "        if is_numeric(val):\n",
    "            return val <= self.value\n",
    "        \n",
    "        return self.value in val\n",
    "\n",
    "    def __repr__(self):\n",
    "        condition = \"contains\"\n",
    "        return \"Does %s %s %s?\" % (\n",
    "            header[self.column], condition, str(self.value))"
   ]
  },
  {
   "cell_type": "code",
   "execution_count": 11,
   "metadata": {},
   "outputs": [],
   "source": [
    "def class_counts(rows):\n",
    "    counts = {}\n",
    "    for row in rows:\n",
    "        label = row[0]\n",
    "        if label not in counts:\n",
    "            counts[label] = 0\n",
    "        counts[label] += 1\n",
    "    return counts"
   ]
  },
  {
   "cell_type": "code",
   "execution_count": 12,
   "metadata": {},
   "outputs": [],
   "source": [
    "def gini(rows):\n",
    "    counts = class_counts(rows)\n",
    "    impurity = 1\n",
    "    for lbl in counts:\n",
    "        prob_of_lbl = counts[lbl] / float(len(rows))\n",
    "        impurity -= prob_of_lbl**2\n",
    "    return impurity"
   ]
  },
  {
   "cell_type": "code",
   "execution_count": 13,
   "metadata": {},
   "outputs": [],
   "source": [
    "def info_gain(left, right, current_uncertainty):\n",
    "    p = float(len(left)) / (len(left) + len(right))\n",
    "    return current_uncertainty - p * gini(left) - (1 - p) * gini(right)"
   ]
  },
  {
   "cell_type": "code",
   "execution_count": 14,
   "metadata": {},
   "outputs": [],
   "source": [
    "class Leaf:\n",
    "    def __init__(self, rows):\n",
    "        self.predictions = class_counts(rows)"
   ]
  },
  {
   "cell_type": "code",
   "execution_count": 15,
   "metadata": {},
   "outputs": [],
   "source": [
    "class Decision_Node:\n",
    "    def __init__(self,\n",
    "                 question,\n",
    "                 true_branch,\n",
    "                 false_branch):\n",
    "        self.question = question\n",
    "        self.true_branch = true_branch\n",
    "        self.false_branch = false_branch"
   ]
  },
  {
   "cell_type": "code",
   "execution_count": 15,
   "metadata": {},
   "outputs": [
    {
     "name": "stdout",
     "output_type": "stream",
     "text": [
      "1501\n"
     ]
    }
   ],
   "source": [
    "questions = []\n",
    "\n",
    "for x in unigram_counts:\n",
    "    questions.append(Question(3, x[0]))\n",
    "\n",
    "for x in bigram_counts:\n",
    "    questions.append(Question(4, x[0]))\n",
    "    \n",
    "for x in trigram_counts:\n",
    "    questions.append(Question(5, x[0]))\n",
    "\n",
    "for x in pos_counts:\n",
    "    questions.append(Question(6, x[0]))\n",
    "    \n",
    "questions.append(Question(2, lengthAvg))    \n",
    "    \n",
    "print(len(questions))\n",
    "# print(questions[1500])"
   ]
  },
  {
   "cell_type": "code",
   "execution_count": 16,
   "metadata": {},
   "outputs": [],
   "source": [
    "def partition(rows, question):\n",
    "    trueRows = []\n",
    "    falseRows = []\n",
    "    \n",
    "    for r in rows:\n",
    "        if question.match(r):\n",
    "            trueRows.append(r)\n",
    "        else:\n",
    "            falseRows.append(r)\n",
    "    \n",
    "    return trueRows, falseRows"
   ]
  },
  {
   "cell_type": "code",
   "execution_count": 17,
   "metadata": {},
   "outputs": [],
   "source": [
    "def findBestSplit(rows, questions):   \n",
    "    best_gain = 0\n",
    "    best_question = None\n",
    "    current_uncertainty = gini(rows)\n",
    "    \n",
    "    for q in questions:\n",
    "        trueRows, falseRows = partition(rows, q)\n",
    "        if len(trueRows) == 0 or len(falseRows) == 0:\n",
    "            continue\n",
    "        \n",
    "        gain = info_gain(trueRows, falseRows, current_uncertainty)\n",
    "        \n",
    "        if gain >= best_gain:\n",
    "            best_gain, best_question = gain, q\n",
    "    \n",
    "    return best_gain, best_question   "
   ]
  },
  {
   "cell_type": "code",
   "execution_count": 18,
   "metadata": {},
   "outputs": [],
   "source": [
    "def formTree(rows, questions):\n",
    "    gain, question = findBestSplit(rows, questions)\n",
    "       \n",
    "    if gain == 0:\n",
    "        return Leaf(rows)\n",
    "    \n",
    "    trueRows, falseRows = partition(rows, question)\n",
    "    questions.remove(question)\n",
    "    \n",
    "    trueBranch = formTree(trueRows, questions)\n",
    "    falseBranch = formTree(falseRows, questions)\n",
    "    \n",
    "    return Decision_Node(question, trueBranch, falseBranch)\n",
    "    "
   ]
  },
  {
   "cell_type": "code",
   "execution_count": 19,
   "metadata": {},
   "outputs": [],
   "source": [
    "def classifyRow(node, row):\n",
    "    if isinstance(node, Leaf):\n",
    "        return node.predictions\n",
    "    \n",
    "    if node.question.match(row):\n",
    "        return classifyRow(node.true_branch, row)\n",
    "    else:\n",
    "        return classifyRow(node.false_branch, row)"
   ]
  },
  {
   "cell_type": "code",
   "execution_count": 20,
   "metadata": {},
   "outputs": [],
   "source": [
    "def train(data, questions):\n",
    "    return formTree(data, deepcopy(questions))"
   ]
  },
  {
   "cell_type": "code",
   "execution_count": 21,
   "metadata": {},
   "outputs": [],
   "source": [
    "def classify(root, rows):\n",
    "    predictions = []\n",
    "    for r in rows:\n",
    "        predictions.append(max(classifyRow(root, r).items(), key=operator.itemgetter(1))[0])\n",
    "    return predictions"
   ]
  },
  {
   "cell_type": "code",
   "execution_count": 22,
   "metadata": {},
   "outputs": [],
   "source": [
    "def getDataInIndex(data, index):\n",
    "    l = []\n",
    "    for i in range(len(data)):\n",
    "        if i in index:\n",
    "            l.append(data[i])\n",
    "    return l"
   ]
  },
  {
   "cell_type": "code",
   "execution_count": 23,
   "metadata": {},
   "outputs": [],
   "source": [
    "def getActualLabels(act_data):\n",
    "    act_labels = []\n",
    "    for d in act_data:\n",
    "        act_labels.append(d[0])\n",
    "    return act_labels"
   ]
  },
  {
   "cell_type": "code",
   "execution_count": 24,
   "metadata": {},
   "outputs": [
    {
     "name": "stdout",
     "output_type": "stream",
     "text": [
      "Training...\n",
      "Training...\n",
      "Training...\n",
      "Training...\n",
      "Training...\n",
      "Training...\n",
      "Training...\n",
      "Training...\n",
      "Training...\n",
      "Training...\n",
      "Precision Score = 0.8028907609403665\n",
      "Recall Score = 0.7574562257221622\n",
      "F Score = 0.7722368576621397\n"
     ]
    }
   ],
   "source": [
    "kfold = KFold(10, True, 1)\n",
    "precision = []\n",
    "recall = []\n",
    "f_score = []\n",
    "i = 0\n",
    "\n",
    "for trainInd,testInd in kfold.split(data):\n",
    "    train_data = getDataInIndex(data, trainInd)\n",
    "    test_data = getDataInIndex(data, testInd)\n",
    "    \n",
    "    root = train(train_data, questions)\n",
    "    \n",
    "    prediction = classify(root, test_data)\n",
    "        \n",
    "    actual = getActualLabels(test_data)\n",
    "    predicted = prediction\n",
    "    \n",
    "#     print(classification_report(actual, predicted))\n",
    "    precision.append(precision_score(actual, predicted, average='macro'))\n",
    "    recall.append(recall_score(actual, predicted, average='macro'))\n",
    "    f_score.append(f1_score(actual, predicted, average='macro'))\n",
    "     \n",
    "    print(\"Training...\")\n",
    "\n",
    "print(\"Precision Score = \" + str(mean(precision)))\n",
    "print(\"Recall Score = \" + str(mean(recall)))\n",
    "print(\"F Score = \" + str(mean(f_score)))"
   ]
  },
  {
   "cell_type": "markdown",
   "metadata": {},
   "source": [
    "## Part 2\n",
    "- All\n",
    "- Unigram, Bigram, Trigram, POS\n",
    "- Unigram, Bigram, Trigram"
   ]
  },
  {
   "cell_type": "code",
   "execution_count": 24,
   "metadata": {},
   "outputs": [],
   "source": [
    "classes = ['ABBR', 'DESC', 'ENTY', 'HUM', 'LOC', 'NUM']"
   ]
  },
  {
   "cell_type": "code",
   "execution_count": 25,
   "metadata": {},
   "outputs": [],
   "source": [
    "def getReport(traindata, testdata, uniFlag=True, biFlag=True, triFlag=True, posFlag=True, lenFlag=True):\n",
    "    allQuestions = []\n",
    "    \n",
    "    if uniFlag:\n",
    "        for x in unigram_counts:\n",
    "            allQuestions.append(Question(3, x[0]))\n",
    "\n",
    "    if biFlag:\n",
    "        for x in bigram_counts:\n",
    "            allQuestions.append(Question(4, x[0]))\n",
    "\n",
    "    if triFlag:\n",
    "        for x in trigram_counts:\n",
    "            allQuestions.append(Question(5, x[0]))\n",
    "\n",
    "    if posFlag:\n",
    "        for x in pos_counts:\n",
    "            allQuestions.append(Question(6, x[0]))\n",
    "\n",
    "    if lenFlag:\n",
    "        allQuestions.append(Question(2, lengthAvg))    \n",
    "\n",
    "    print(\"No of questions = \" + str(len(allQuestions)))\n",
    "    print(\"Training...\")\n",
    "    root = train(traindata, allQuestions)\n",
    "    print(\"Predicting...\")\n",
    "    prediction = classify(root, testdata)        \n",
    "    actual = getActualLabels(testdata)\n",
    "    print(\"Prediction done...\")\n",
    "    matrix = confusion_matrix(actual, prediction)\n",
    "    acc = matrix.diagonal()/matrix.sum(axis=1)\n",
    "    accuracy_report = dict(zip(classes, acc))\n",
    "    \n",
    "    return accuracy_report"
   ]
  },
  {
   "cell_type": "code",
   "execution_count": 26,
   "metadata": {},
   "outputs": [
    {
     "data": {
      "text/plain": [
       "500"
      ]
     },
     "execution_count": 26,
     "metadata": {},
     "output_type": "execute_result"
    }
   ],
   "source": [
    "testdata = buildData('./testdata.txt')[0]\n",
    "len(testdata)"
   ]
  },
  {
   "cell_type": "code",
   "execution_count": 70,
   "metadata": {},
   "outputs": [
    {
     "name": "stdout",
     "output_type": "stream",
     "text": [
      "No of questions = 1501\n",
      "{'NUM': 0.8230088495575221, 'DESC': 0.9710144927536232, 'ENTY': 0.7127659574468085, 'ABBR': 0.6666666666666666, 'LOC': 0.654320987654321, 'HUM': 0.8923076923076924}\n"
     ]
    }
   ],
   "source": [
    "print(getReport(traindata=data, testdata=testdata))"
   ]
  },
  {
   "cell_type": "code",
   "execution_count": 27,
   "metadata": {},
   "outputs": [
    {
     "name": "stdout",
     "output_type": "stream",
     "text": [
      "No of questions = 1500\n",
      "Training...\n",
      "Predicting...\n",
      "Prediction done...\n",
      "{'HUM': 0.8769230769230769, 'NUM': 0.8141592920353983, 'ABBR': 0.6666666666666666, 'DESC': 0.9782608695652174, 'ENTY': 0.7127659574468085, 'LOC': 0.691358024691358}\n"
     ]
    }
   ],
   "source": [
    "print(getReport(traindata=data, testdata=testdata, lenFlag=False))"
   ]
  },
  {
   "cell_type": "code",
   "execution_count": 28,
   "metadata": {},
   "outputs": [
    {
     "name": "stdout",
     "output_type": "stream",
     "text": [
      "No of questions = 1000\n",
      "Training...\n",
      "Predicting...\n",
      "Prediction done...\n",
      "{'HUM': 0.8923076923076924, 'NUM': 0.7876106194690266, 'ABBR': 0.6666666666666666, 'DESC': 0.9782608695652174, 'ENTY': 0.6276595744680851, 'LOC': 0.6419753086419753}\n"
     ]
    }
   ],
   "source": [
    "print(getReport(traindata=data, testdata=testdata, lenFlag=False, posFlag=False))"
   ]
  },
  {
   "cell_type": "code",
   "execution_count": null,
   "metadata": {},
   "outputs": [],
   "source": []
  }
 ],
 "metadata": {
  "kernelspec": {
   "display_name": "Python 3",
   "language": "python",
   "name": "python3"
  },
  "language_info": {
   "codemirror_mode": {
    "name": "ipython",
    "version": 3
   },
   "file_extension": ".py",
   "mimetype": "text/x-python",
   "name": "python",
   "nbconvert_exporter": "python",
   "pygments_lexer": "ipython3",
   "version": "3.5.6"
  }
 },
 "nbformat": 4,
 "nbformat_minor": 2
}
