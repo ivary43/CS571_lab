{
 "cells": [
  {
   "cell_type": "code",
   "execution_count": 31,
   "metadata": {},
   "outputs": [],
   "source": [
    "import pandas as pd\n",
    "import re\n",
    "import string\n",
    "from sklearn.model_selection import train_test_split\n",
    "from keras.preprocessing import sequence\n",
    "from keras.models import Sequential\n",
    "from keras.layers import Dense, Dropout, Activation\n",
    "from keras.layers import Embedding\n",
    "from keras.layers import Conv1D, GlobalMaxPooling1D\n",
    "from sklearn.preprocessing import OneHotEncoder, LabelEncoder\n",
    "import numpy as np\n",
    "from gensim.models import Word2Vec\n",
    "from sklearn.feature_extraction.text import CountVectorizer\n",
    "from sklearn.metrics import confusion_matrix\n",
    "from collections import Counter\n",
    "import seaborn as sn\n",
    "import matplotlib.pyplot as plt\n",
    "\n",
    "%matplotlib inline"
   ]
  },
  {
   "cell_type": "code",
   "execution_count": 2,
   "metadata": {},
   "outputs": [],
   "source": [
    "def getData(f):\n",
    "    data = []\n",
    "    file = open(f)\n",
    "\n",
    "    for line in file:\n",
    "        line1 = line.split(' ')\n",
    "        result = re.search(\"BOS(.*)EOS\", line)\n",
    "\n",
    "        row = [result.group(1).strip()]\n",
    "        row.append(line1[-1].rstrip().split(\"#\")[0])\n",
    "        data.append(row)\n",
    "\n",
    "    return data"
   ]
  },
  {
   "cell_type": "code",
   "execution_count": 3,
   "metadata": {},
   "outputs": [
    {
     "data": {
      "text/plain": [
       "Counter({'atis_flight': 3687,\n",
       "         'atis_flight_time': 54,\n",
       "         'atis_airfare': 424,\n",
       "         'atis_aircraft': 82,\n",
       "         'atis_ground_service': 256,\n",
       "         'atis_airport': 20,\n",
       "         'atis_airline': 159,\n",
       "         'atis_distance': 20,\n",
       "         'atis_abbreviation': 147,\n",
       "         'atis_ground_fare': 18,\n",
       "         'atis_quantity': 51,\n",
       "         'atis_city': 19,\n",
       "         'atis_flight_no': 12,\n",
       "         'atis_capacity': 16,\n",
       "         'atis_meal': 6,\n",
       "         'atis_restriction': 6,\n",
       "         'atis_cheapest': 1})"
      ]
     },
     "execution_count": 3,
     "metadata": {},
     "output_type": "execute_result"
    }
   ],
   "source": [
    "train_data = getData(\"./train.txt\")\n",
    "X_train = [s[0] for s in train_data]\n",
    "y_train = [s[1] for s in train_data]\n",
    "uni_labels_train = sorted(set(y_train))\n",
    "label_counts = Counter(y_train)\n",
    "le = LabelEncoder()\n",
    "y_train = np.array(y_train)\n",
    "y_train = le.fit_transform(y_train)\n",
    "ohe = OneHotEncoder(sparse=False, categories='auto')\n",
    "y_train = y_train.reshape(len(y_train), 1)\n",
    "y_train = ohe.fit_transform(y_train)\n",
    "label_counts"
   ]
  },
  {
   "cell_type": "code",
   "execution_count": 4,
   "metadata": {},
   "outputs": [],
   "source": [
    "# test_data = getData(\"./test.txt\")\n",
    "# X_test = [s[0] for s in test_data]\n",
    "# y_test = [s[1] for s in test_data]\n",
    "# uni_labels_test = set(y_test)\n",
    "# le = LabelEncoder()\n",
    "# y_test = np.array(y_test)\n",
    "# y_test = le.fit_transform(y_test)\n",
    "# ohe = OneHotEncoder(sparse=False, categories='auto')\n",
    "# y_test = y_test.reshape(len(y_test), 1)\n",
    "# y_test = ohe.fit_transform(y_test)"
   ]
  },
  {
   "cell_type": "code",
   "execution_count": 12,
   "metadata": {},
   "outputs": [],
   "source": [
    "def makeVocab(data):\n",
    "    vocab = []\n",
    "    for d in data:\n",
    "        for w in d.split(\" \"):\n",
    "            vocab.append(w)\n",
    "    \n",
    "    return sorted(set(vocab))"
   ]
  },
  {
   "cell_type": "code",
   "execution_count": 13,
   "metadata": {},
   "outputs": [],
   "source": [
    "vocabs = makeVocab(X_train)\n",
    "X_train, X_test, y_train, y_test = train_test_split(X_train, y_train, test_size=0.2)"
   ]
  },
  {
   "cell_type": "code",
   "execution_count": 14,
   "metadata": {},
   "outputs": [],
   "source": [
    "max_features = 5000\n",
    "maxlen = 20\n",
    "batch_size = 32\n",
    "embedding_dims = 50\n",
    "filters = 250\n",
    "kernel_size = 3\n",
    "hidden_dims = 250\n",
    "epochs = 5"
   ]
  },
  {
   "cell_type": "code",
   "execution_count": 15,
   "metadata": {
    "scrolled": false
   },
   "outputs": [],
   "source": [
    "# model = Word2Vec(X_train, min_count=1)\n",
    "# w2vec_train = model[model.wv.syn0]\n",
    "\n",
    "# model_test = Word2Vec(X_test, min_count=1)\n",
    "# w2vec_test = model_test[model_test.wv.vocab]"
   ]
  },
  {
   "cell_type": "code",
   "execution_count": 16,
   "metadata": {},
   "outputs": [],
   "source": [
    "def getIndexInVocab(vocab, word):\n",
    "    if word not in vocab:\n",
    "        return 0\n",
    "    return vocab.index(word) + 2"
   ]
  },
  {
   "cell_type": "code",
   "execution_count": 17,
   "metadata": {},
   "outputs": [],
   "source": [
    "def padding(sentence, padLen):\n",
    "    pad_sent = []\n",
    "    i = 0\n",
    "    for s in sentence:\n",
    "        pad_sent.append(s)\n",
    "        i += 1\n",
    "        if i == padLen:\n",
    "            break\n",
    "    \n",
    "    rem_len = padLen - len(pad_sent)\n",
    "    for i in range(rem_len):\n",
    "        pad_sent.append(1)\n",
    "    \n",
    "    return pad_sent"
   ]
  },
  {
   "cell_type": "code",
   "execution_count": 18,
   "metadata": {},
   "outputs": [],
   "source": [
    "def makeVectorized(list_sent, vocab, maxlen):\n",
    "    ans = []\n",
    "\n",
    "    for l in list_sent:\n",
    "        sent = []\n",
    "        for w in l.split(\" \"):\n",
    "            sent.append(getIndexInVocab(vocab, w))\n",
    "        \n",
    "        sent = padding(sent, maxlen)\n",
    "        ans.append(sent)\n",
    "    \n",
    "    return ans"
   ]
  },
  {
   "cell_type": "code",
   "execution_count": 19,
   "metadata": {},
   "outputs": [],
   "source": [
    "X_train_vectorized = np.array(makeVectorized(X_train, vocabs, maxlen))\n",
    "X_test_vectorized = np.array(makeVectorized(X_test, vocabs, maxlen))"
   ]
  },
  {
   "cell_type": "code",
   "execution_count": 20,
   "metadata": {},
   "outputs": [
    {
     "data": {
      "text/plain": [
       "array([[448, 237, 462, 787, 419, 821, 232, 178, 190, 345,   1,   1,   1,\n",
       "          1,   1,   1,   1,   1,   1,   1],\n",
       "       [646, 412, 541, 783, 390, 806, 441, 889, 506, 807, 393, 407, 237,\n",
       "        807, 222, 448, 783, 565, 226, 138]])"
      ]
     },
     "execution_count": 20,
     "metadata": {},
     "output_type": "execute_result"
    }
   ],
   "source": [
    "X_train_vectorized[0:2]"
   ]
  },
  {
   "cell_type": "code",
   "execution_count": 21,
   "metadata": {},
   "outputs": [],
   "source": [
    "# vectorizer = CountVectorizer()\n",
    "# vectorizer.fit(X_train)\n",
    "\n",
    "# X_train_bow = vectorizer.transform(X_train).toarray()\n",
    "# X_test_bow = vectorizer.transform(X_test).toarray()\n",
    "\n",
    "# bow_len = len(X_train_bow[0])\n",
    "# bow_len"
   ]
  },
  {
   "cell_type": "code",
   "execution_count": 22,
   "metadata": {},
   "outputs": [
    {
     "data": {
      "text/plain": [
       "17"
      ]
     },
     "execution_count": 22,
     "metadata": {},
     "output_type": "execute_result"
    }
   ],
   "source": [
    "len(y_test[0])"
   ]
  },
  {
   "cell_type": "code",
   "execution_count": 23,
   "metadata": {},
   "outputs": [
    {
     "name": "stderr",
     "output_type": "stream",
     "text": [
      "C:\\Users\\mayan\\Anaconda3\\envs\\image_labeller\\lib\\site-packages\\tensorflow_core\\python\\framework\\indexed_slices.py:424: UserWarning: Converting sparse IndexedSlices to a dense Tensor of unknown shape. This may consume a large amount of memory.\n",
      "  \"Converting sparse IndexedSlices to a dense Tensor of unknown shape. \"\n"
     ]
    },
    {
     "name": "stdout",
     "output_type": "stream",
     "text": [
      "Train on 3982 samples, validate on 996 samples\n",
      "Epoch 1/5\n",
      "3982/3982 [==============================] - 1s 323us/step - loss: 1.0843 - accuracy: 0.7418 - val_loss: 0.7590 - val_accuracy: 0.7962\n",
      "Epoch 2/5\n",
      "3982/3982 [==============================] - 1s 277us/step - loss: 0.5330 - accuracy: 0.8599 - val_loss: 0.4533 - val_accuracy: 0.8946\n",
      "Epoch 3/5\n",
      "3982/3982 [==============================] - 1s 277us/step - loss: 0.3040 - accuracy: 0.9209 - val_loss: 0.3099 - val_accuracy: 0.9127\n",
      "Epoch 4/5\n",
      "3982/3982 [==============================] - 1s 266us/step - loss: 0.1945 - accuracy: 0.9450 - val_loss: 0.2511 - val_accuracy: 0.9347\n",
      "Epoch 5/5\n",
      "3982/3982 [==============================] - 1s 273us/step - loss: 0.1388 - accuracy: 0.9596 - val_loss: 0.2498 - val_accuracy: 0.9408\n"
     ]
    },
    {
     "data": {
      "text/plain": [
       "<keras.callbacks.callbacks.History at 0x20f46ce00b8>"
      ]
     },
     "execution_count": 23,
     "metadata": {},
     "output_type": "execute_result"
    }
   ],
   "source": [
    "# x_train = sequence.pad_sequences(X_train_bow, maxlen=maxlen)\n",
    "# x_test = sequence.pad_sequences(X_test_bow, maxlen=maxlen)\n",
    "\n",
    "model = Sequential()\n",
    "\n",
    "model.add(Embedding(max_features, embedding_dims, input_length=maxlen))\n",
    "\n",
    "model.add(Dropout(0.2))\n",
    "\n",
    "model.add(Conv1D(filters, kernel_size, padding='valid', activation='relu', strides=1))\n",
    "\n",
    "model.add(GlobalMaxPooling1D())\n",
    "\n",
    "model.add(Dense(hidden_dims))\n",
    "model.add(Dropout(0.2))\n",
    "model.add(Activation('relu'))\n",
    "\n",
    "model.add(Dense(17))\n",
    "model.add(Activation('softmax'))\n",
    "\n",
    "model.compile(loss='categorical_crossentropy',\n",
    "              optimizer='adam',\n",
    "              metrics=['accuracy'])\n",
    "\n",
    "model.fit(X_train_vectorized, y_train,\n",
    "          batch_size=batch_size,\n",
    "          epochs=epochs,\n",
    "          validation_data=(X_test_vectorized, y_test))"
   ]
  },
  {
   "cell_type": "code",
   "execution_count": 24,
   "metadata": {},
   "outputs": [],
   "source": [
    "test_data = getData(\"./test.txt\")\n",
    "X_test = [s[0] for s in test_data]\n",
    "y_test = [s[1] for s in test_data]\n",
    "uni_labels_test = sorted(set(y_test))\n",
    "le = LabelEncoder()\n",
    "y_test = np.array(y_test)\n",
    "y_test = le.fit_transform(y_test)\n",
    "ohe = OneHotEncoder(sparse=False, categories='auto')\n",
    "y_test = y_test.reshape(len(y_test), 1)\n",
    "y_test = ohe.fit_transform(y_test)"
   ]
  },
  {
   "cell_type": "code",
   "execution_count": 25,
   "metadata": {},
   "outputs": [],
   "source": [
    "# X_test_bow = vectorizer.transform(X_test).toarray()\n",
    "# y_pred = model.predict_classes(X_test_bow)\n",
    "# rounded_labels=np.argmax(y_test, axis=1)"
   ]
  },
  {
   "cell_type": "code",
   "execution_count": 26,
   "metadata": {},
   "outputs": [],
   "source": [
    "X_test_vectorized = np.array(makeVectorized(X_test, vocabs, maxlen))\n",
    "y_pred = model.predict_classes(X_test_vectorized)\n",
    "rounded_labels=np.argmax(y_test, axis=1)"
   ]
  },
  {
   "cell_type": "code",
   "execution_count": 42,
   "metadata": {},
   "outputs": [
    {
     "data": {
      "image/png": "[encoded data removed]",
      "text/plain": [
       "<Figure size 1440x720 with 2 Axes>"
      ]
     },
     "metadata": {},
     "output_type": "display_data"
    }
   ],
   "source": [
    "plt.rcParams[\"figure.figsize\"] = [20, 10]\n",
    "cm = confusion_matrix(y_pred=y_pred, y_true=rounded_labels)\n",
    "labels = uni_labels_test\n",
    "dfcm = pd.DataFrame(cm, labels, labels)\n",
    "sn.set(font_scale=1)\n",
    "sn.heatmap(dfcm, annot=True, annot_kws={'size' : 15})\n",
    "plt.savefig(\"f1.png\")"
   ]
  },
  {
   "cell_type": "code",
   "execution_count": null,
   "metadata": {},
   "outputs": [],
   "source": []
  }
 ],
 "metadata": {
  "kernelspec": {
   "display_name": "Python 3",
   "language": "python",
   "name": "python3"
  },
  "language_info": {
   "codemirror_mode": {
    "name": "ipython",
    "version": 3
   },
   "file_extension": ".py",
   "mimetype": "text/x-python",
   "name": "python",
   "nbconvert_exporter": "python",
   "pygments_lexer": "ipython3",
   "version": "3.6.9"
  }
 },
 "nbformat": 4,
 "nbformat_minor": 2
}
